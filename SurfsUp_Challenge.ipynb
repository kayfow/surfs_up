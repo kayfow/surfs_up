{
 "cells": [
  {
   "cell_type": "code",
   "execution_count": 1,
   "metadata": {},
   "outputs": [],
   "source": [
    "# Dependencies\n",
    "import numpy as np\n",
    "import pandas as pd\n",
    "import datetime as dt\n",
    "\n",
    "# Python SQL toolkit and Object Relational Mapper\n",
    "import sqlalchemy\n",
    "from sqlalchemy.ext.automap import automap_base\n",
    "from sqlalchemy.orm import Session\n",
    "from sqlalchemy import create_engine, func"
   ]
  },
  {
   "cell_type": "code",
   "execution_count": 2,
   "metadata": {},
   "outputs": [],
   "source": [
    "engine = create_engine(\"sqlite:///hawaii.sqlite\")\n",
    "\n",
    "# reflect an existing database into a new model\n",
    "Base = automap_base()\n",
    "# reflect the tables\n",
    "Base.prepare(engine, reflect=True)\n",
    "\n",
    "# Save references to each table\n",
    "Measurement = Base.classes.measurement\n",
    "Station = Base.classes.station"
   ]
  },
  {
   "cell_type": "code",
   "execution_count": 3,
   "metadata": {},
   "outputs": [
    {
     "data": {
      "text/plain": [
       "['measurement', 'station']"
      ]
     },
     "execution_count": 3,
     "metadata": {},
     "output_type": "execute_result"
    }
   ],
   "source": [
    "Base.classes.keys()"
   ]
  },
  {
   "cell_type": "code",
   "execution_count": 4,
   "metadata": {},
   "outputs": [],
   "source": [
    "# Create our session (link) from Python to the DB\n",
    "session = Session(engine)"
   ]
  },
  {
   "cell_type": "markdown",
   "metadata": {},
   "source": [
    "## D1: Determine the Summary Statistics for June"
   ]
  },
  {
   "cell_type": "code",
   "execution_count": 5,
   "metadata": {},
   "outputs": [],
   "source": [
    "# 1. Import the sqlalchemy extract function.\n",
    "from sqlalchemy import extract\n"
   ]
  },
  {
   "cell_type": "code",
   "execution_count": 6,
   "metadata": {},
   "outputs": [],
   "source": [
    "# 2. Write a query that filters the Measurement table to retrieve the temperatures for the month of June. \n",
    "month_June = dt.date(2017, 6, 30) - dt.timedelta(days=29)"
   ]
  },
  {
   "cell_type": "code",
   "execution_count": 7,
   "metadata": {},
   "outputs": [
    {
     "name": "stdout",
     "output_type": "stream",
     "text": [
      "[79.0, 79.0, 79.0, 79.0, 80.0, 79.0, 79.0, 80.0, 80.0, 77.0, 79.0, 83.0, 80.0, 80.0, 78.0, 79.0, 80.0, 77.0, 80.0, 78.0, 79.0, 80.0, 78.0, 80.0, 80.0, 81.0, 80.0, 79.0, 79.0, 75.0, 76.0, 76.0, 76.0, 78.0, 76.0, 75.0, 75.0, 76.0, 78.0, 75.0, 73.0, 76.0, 76.0, 76.0, 77.0, 76.0, 77.0, 72.0, 77.0, 75.0, 82.0, 77.0, 76.0, 74.0, 73.0, 77.0, 77.0, 77.0, 76.0, 74.0, 81.0, 78.0, 80.0, 79.0, 81.0, 80.0, 81.0, 79.0, 81.0, 78.0, 79.0, 79.0, 75.0, 79.0, 78.0, 80.0, 78.0, 77.0, 78.0, 79.0, 76.0, 80.0, 76.0, 81.0, 79.0, 78.0, 80.0, 80.0, 78.0, 80.0, 81.0, 78.0, 77.0, 78.0, 78.0, 77.0, 76.0, 81.0, 76.0, 82.0, 80.0, 80.0, 79.0, 74.0, 79.0, 81.0, 79.0, 81.0, 78.0, 78.0, 78.0, 77.0, 78.0, 75.0, 81.0, 80.0, 77.0, 80.0, 78.0, 80.0, 77.0, 78.0, 78.0, 80.0, 80.0, 79.0, 82.0, 80.0, 81.0, 81.0, 79.0, 78.0, 75.0, 80.0, 76.0, 76.0, 77.0, 75.0, 75.0, 75.0, 75.0, 72.0, 74.0, 74.0, 74.0, 76.0, 74.0, 75.0, 73.0, 79.0, 75.0, 72.0, 72.0, 74.0, 72.0, 72.0, 77.0, 71.0, 73.0, 76.0, 77.0, 76.0, 76.0, 74.0, 74.0, 77.0, 74.0, 74.0, 79.0, 75.0, 72.0, 76.0, 74.0, 73.0, 74.0, 77.0, 74.0, 72.0, 77.0, 76.0, 74.0, 75.0, 76.0, 71.0, 73.0, 79.0, 79.0, 74.0, 74.0, 76.0, 75.0]\n"
     ]
    }
   ],
   "source": [
    "#  3. Convert the June temperatures to a list.\n",
    "JuneResults = []\n",
    "JuneQuery = session.query(Measurement).filter(extract('month', Measurement.date)== 6, extract('year', Measurement.date)== 2017)\n",
    "JuneResults = ([temp.tobs for temp in JuneQuery])\n",
    "print(JuneResults)"
   ]
  },
  {
   "cell_type": "code",
   "execution_count": 8,
   "metadata": {},
   "outputs": [],
   "source": [
    "# 4. Create a DataFrame from the list of temperatures for the month of June. \n",
    "june_df = pd.DataFrame(JuneResults, columns=['June Temps'])\n",
    "june_df = june_df.sort_index()"
   ]
  },
  {
   "cell_type": "code",
   "execution_count": 9,
   "metadata": {},
   "outputs": [
    {
     "data": {
      "text/html": [
       "<div>\n",
       "<style scoped>\n",
       "    .dataframe tbody tr th:only-of-type {\n",
       "        vertical-align: middle;\n",
       "    }\n",
       "\n",
       "    .dataframe tbody tr th {\n",
       "        vertical-align: top;\n",
       "    }\n",
       "\n",
       "    .dataframe thead th {\n",
       "        text-align: right;\n",
       "    }\n",
       "</style>\n",
       "<table border=\"1\" class=\"dataframe\">\n",
       "  <thead>\n",
       "    <tr style=\"text-align: right;\">\n",
       "      <th></th>\n",
       "      <th>June Temps</th>\n",
       "    </tr>\n",
       "  </thead>\n",
       "  <tbody>\n",
       "    <tr>\n",
       "      <th>count</th>\n",
       "      <td>191.000000</td>\n",
       "    </tr>\n",
       "    <tr>\n",
       "      <th>mean</th>\n",
       "      <td>77.219895</td>\n",
       "    </tr>\n",
       "    <tr>\n",
       "      <th>std</th>\n",
       "      <td>2.622538</td>\n",
       "    </tr>\n",
       "    <tr>\n",
       "      <th>min</th>\n",
       "      <td>71.000000</td>\n",
       "    </tr>\n",
       "    <tr>\n",
       "      <th>25%</th>\n",
       "      <td>75.000000</td>\n",
       "    </tr>\n",
       "    <tr>\n",
       "      <th>50%</th>\n",
       "      <td>77.000000</td>\n",
       "    </tr>\n",
       "    <tr>\n",
       "      <th>75%</th>\n",
       "      <td>79.000000</td>\n",
       "    </tr>\n",
       "    <tr>\n",
       "      <th>max</th>\n",
       "      <td>83.000000</td>\n",
       "    </tr>\n",
       "  </tbody>\n",
       "</table>\n",
       "</div>"
      ],
      "text/plain": [
       "       June Temps\n",
       "count  191.000000\n",
       "mean    77.219895\n",
       "std      2.622538\n",
       "min     71.000000\n",
       "25%     75.000000\n",
       "50%     77.000000\n",
       "75%     79.000000\n",
       "max     83.000000"
      ]
     },
     "execution_count": 9,
     "metadata": {},
     "output_type": "execute_result"
    }
   ],
   "source": [
    "# 5. Calculate and print out the summary statistics for the June temperature DataFrame.\n",
    "june_df.describe()"
   ]
  },
  {
   "cell_type": "markdown",
   "metadata": {},
   "source": [
    "## D2: Determine the Summary Statistics for December"
   ]
  },
  {
   "cell_type": "code",
   "execution_count": 10,
   "metadata": {},
   "outputs": [],
   "source": [
    "# 6. Write a query that filters the Measurement table to retrieve the temperatures for the month of December.\n",
    "month_Dec = dt.date(2016, 12, 31) - dt.timedelta(days=30)"
   ]
  },
  {
   "cell_type": "code",
   "execution_count": 11,
   "metadata": {},
   "outputs": [
    {
     "name": "stdout",
     "output_type": "stream",
     "text": [
      "[75.0, 72.0, 69.0, 71.0, 68.0, 67.0, 69.0, 73.0, 70.0, 70.0, 70.0, 66.0, 67.0, 70.0, 66.0, 62.0, 71.0, 73.0, 69.0, 77.0, 74.0, 71.0, 72.0, 74.0, 74.0, 74.0, 74.0, 71.0, 73.0, 69.0, 66.0, 73.0, 71.0, 71.0, 69.0, 68.0, 70.0, 71.0, 72.0, 70.0, 71.0, 72.0, 68.0, 68.0, 70.0, 70.0, 63.0, 71.0, 67.0, 69.0, 74.0, 72.0, 70.0, 69.0, 73.0, 74.0, 74.0, 73.0, 71.0, 72.0, 69.0, 71.0, 75.0, 77.0, 75.0, 77.0, 76.0, 76.0, 75.0, 72.0, 76.0, 75.0, 72.0, 72.0, 75.0, 69.0, 75.0, 74.0, 78.0, 77.0, 76.0, 72.0, 73.0, 74.0, 74.0, 74.0, 73.0, 73.0, 71.0, 72.0, 72.0, 70.0, 68.0, 74.0, 71.0, 70.0, 70.0, 70.0, 68.0, 68.0, 68.0, 66.0, 71.0, 76.0, 73.0, 70.0, 68.0, 71.0, 71.0, 68.0, 76.0, 75.0, 75.0, 75.0, 70.0, 70.0, 74.0, 73.0, 72.0, 78.0, 67.0, 69.0, 71.0, 74.0, 63.0, 76.0, 76.0, 71.0, 76.0, 77.0, 73.0, 71.0, 78.0, 78.0, 75.0, 75.0, 72.0, 77.0, 72.0, 74.0, 70.0, 72.0, 70.0, 67.0, 67.0, 69.0, 70.0, 68.0, 69.0, 69.0, 66.0, 65.0, 68.0, 62.0, 75.0, 70.0, 69.0, 76.0, 76.0, 74.0, 73.0, 71.0, 74.0, 74.0, 72.0, 71.0, 72.0, 74.0, 69.0, 67.0, 71.0, 71.0, 67.0, 76.0, 67.0, 67.0, 68.0, 71.0, 68.0, 68.0, 69.0, 65.0, 70.0, 69.0, 64.0, 60.0, 67.0, 72.0, 73.0, 70.0, 68.0, 69.0, 69.0, 69.0, 71.0, 71.0, 71.0, 69.0, 65.0, 65.0]\n"
     ]
    }
   ],
   "source": [
    "# 7. Convert the December temperatures to a list.\n",
    "DecResults = []\n",
    "DecQuery = session.query(Measurement).filter(extract('month', Measurement.date)== 12, extract('year', Measurement.date)== 2016)\n",
    "DecResults = ([temp.tobs for temp in DecQuery])\n",
    "print(DecResults)"
   ]
  },
  {
   "cell_type": "code",
   "execution_count": 12,
   "metadata": {},
   "outputs": [],
   "source": [
    "# 8. Create a DataFrame from the list of temperatures for the month of December. \n",
    "dec_df = pd.DataFrame(DecResults, columns=['Dec Temps'])\n",
    "dec_df = dec_df.sort_index()"
   ]
  },
  {
   "cell_type": "code",
   "execution_count": 13,
   "metadata": {},
   "outputs": [
    {
     "data": {
      "text/html": [
       "<div>\n",
       "<style scoped>\n",
       "    .dataframe tbody tr th:only-of-type {\n",
       "        vertical-align: middle;\n",
       "    }\n",
       "\n",
       "    .dataframe tbody tr th {\n",
       "        vertical-align: top;\n",
       "    }\n",
       "\n",
       "    .dataframe thead th {\n",
       "        text-align: right;\n",
       "    }\n",
       "</style>\n",
       "<table border=\"1\" class=\"dataframe\">\n",
       "  <thead>\n",
       "    <tr style=\"text-align: right;\">\n",
       "      <th></th>\n",
       "      <th>Dec Temps</th>\n",
       "    </tr>\n",
       "  </thead>\n",
       "  <tbody>\n",
       "    <tr>\n",
       "      <th>count</th>\n",
       "      <td>200.000000</td>\n",
       "    </tr>\n",
       "    <tr>\n",
       "      <th>mean</th>\n",
       "      <td>71.130000</td>\n",
       "    </tr>\n",
       "    <tr>\n",
       "      <th>std</th>\n",
       "      <td>3.419292</td>\n",
       "    </tr>\n",
       "    <tr>\n",
       "      <th>min</th>\n",
       "      <td>60.000000</td>\n",
       "    </tr>\n",
       "    <tr>\n",
       "      <th>25%</th>\n",
       "      <td>69.000000</td>\n",
       "    </tr>\n",
       "    <tr>\n",
       "      <th>50%</th>\n",
       "      <td>71.000000</td>\n",
       "    </tr>\n",
       "    <tr>\n",
       "      <th>75%</th>\n",
       "      <td>74.000000</td>\n",
       "    </tr>\n",
       "    <tr>\n",
       "      <th>max</th>\n",
       "      <td>78.000000</td>\n",
       "    </tr>\n",
       "  </tbody>\n",
       "</table>\n",
       "</div>"
      ],
      "text/plain": [
       "        Dec Temps\n",
       "count  200.000000\n",
       "mean    71.130000\n",
       "std      3.419292\n",
       "min     60.000000\n",
       "25%     69.000000\n",
       "50%     71.000000\n",
       "75%     74.000000\n",
       "max     78.000000"
      ]
     },
     "execution_count": 13,
     "metadata": {},
     "output_type": "execute_result"
    }
   ],
   "source": [
    "# 9. Calculate and print out the summary statistics for the Decemeber temperature DataFrame.\n",
    "dec_df.describe()"
   ]
  },
  {
   "cell_type": "code",
   "execution_count": null,
   "metadata": {},
   "outputs": [],
   "source": []
  }
 ],
 "metadata": {
  "kernelspec": {
   "display_name": "PythonData2022",
   "language": "python",
   "name": "pythondata2022"
  },
  "language_info": {
   "codemirror_mode": {
    "name": "ipython",
    "version": 3
   },
   "file_extension": ".py",
   "mimetype": "text/x-python",
   "name": "python",
   "nbconvert_exporter": "python",
   "pygments_lexer": "ipython3",
   "version": "3.7.11"
  }
 },
 "nbformat": 4,
 "nbformat_minor": 2
}
